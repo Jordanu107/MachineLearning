{
 "cells": [
  {
   "cell_type": "code",
   "execution_count": 3,
   "metadata": {},
   "outputs": [],
   "source": [
    "# Machine Learning Week 3 Practical Exercises\n",
    "# Author: Jordan Ung <jordanu107@gmail.com>\n",
    "# Last Updated: 15.03.19\n",
    "\n",
    "import numpy as np\n",
    "import pandas as pd\n",
    "import matplotlib as mpl\n",
    "import math"
   ]
  },
  {
   "cell_type": "code",
   "execution_count": 10,
   "metadata": {},
   "outputs": [
    {
     "name": "stdout",
     "output_type": "stream",
     "text": [
      "{'Iris-setosa': 49, 'Iris-setossa': 1, 'Iris-versicolor': 45, 'versicolor': 5, 'Iris-virginica': 50}\n"
     ]
    }
   ],
   "source": [
    "# Question 1\n",
    "# 1(a)\n",
    "# 149 instances, 5 attributes, 3 classes\n",
    "\n",
    "# 1(b)\n",
    "file_name = 'iris-data-nix.csv'\n",
    "df = pd.read_csv(file_name)\n",
    "\n",
    "df.head()\n",
    "classes  = {}\n",
    "\n",
    "for i in df['class']:\n",
    "    if i not in classes:\n",
    "        classes[i] = 1\n",
    "    else:\n",
    "        classes[i] += 1\n",
    "print(classes)"
   ]
  },
  {
   "cell_type": "code",
   "execution_count": 21,
   "metadata": {},
   "outputs": [
    {
     "data": {
      "text/plain": [
       "sepal_length_cm    150\n",
       "sepal_width_cm     150\n",
       "petal_length_cm    150\n",
       "petal_width_cm     145\n",
       "class              150\n",
       "dtype: int64"
      ]
     },
     "execution_count": 21,
     "metadata": {},
     "output_type": "execute_result"
    }
   ],
   "source": [
    "# Question 2\n",
    "new_file = 'iris-clean.csv'\n",
    "new_df = pd.read_csv(new_file)\n",
    "\n",
    "#ånew_df.count()\n"
   ]
  },
  {
   "cell_type": "code",
   "execution_count": null,
   "metadata": {},
   "outputs": [],
   "source": []
  }
 ],
 "metadata": {
  "kernelspec": {
   "display_name": "Python 3",
   "language": "python",
   "name": "python3"
  },
  "language_info": {
   "codemirror_mode": {
    "name": "ipython",
    "version": 3
   },
   "file_extension": ".py",
   "mimetype": "text/x-python",
   "name": "python",
   "nbconvert_exporter": "python",
   "pygments_lexer": "ipython3",
   "version": "3.6.4"
  }
 },
 "nbformat": 4,
 "nbformat_minor": 2
}
