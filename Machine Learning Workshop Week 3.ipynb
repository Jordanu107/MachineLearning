{
 "cells": [
  {
   "cell_type": "code",
   "execution_count": 1,
   "metadata": {},
   "outputs": [],
   "source": [
    "# Machine Learning Week 3 Practical Exercises\n",
    "# Author: Jordan Ung <jordanu107@gmail.com>\n",
    "# Last Updated: 15.03.19\n",
    "\n",
    "import numpy as np\n",
    "import pandas as pd\n",
    "import matplotlib as mpl\n",
    "import math"
   ]
  },
  {
   "cell_type": "code",
   "execution_count": 2,
   "metadata": {},
   "outputs": [
    {
     "name": "stdout",
     "output_type": "stream",
     "text": [
      "{'Iris-setosa': 49, 'Iris-setossa': 1, 'Iris-versicolor': 45, 'versicolor': 5, 'Iris-virginica': 50}\n"
     ]
    }
   ],
   "source": [
    "# Question 1\n",
    "# 1(a)\n",
    "# 149 instances, 5 attributes, 3 classes\n",
    "\n",
    "# 1(b)\n",
    "file_name = 'iris-data-nix.csv'\n",
    "df = pd.read_csv(file_name)\n",
    "\n",
    "df.head()\n",
    "classes  = {}\n",
    "\n",
    "for i in df['class']:\n",
    "    if i not in classes:\n",
    "        classes[i] = 1\n",
    "    else:\n",
    "        classes[i] += 1\n",
    "print(classes)"
   ]
  },
  {
   "cell_type": "code",
   "execution_count": 19,
   "metadata": {},
   "outputs": [
    {
     "name": "stdout",
     "output_type": "stream",
     "text": [
      "Attribute: sepal_length_cm, Count: 150\n",
      "\n",
      "Attribute: sepal_width_cm, Count: 150\n",
      "\n",
      "Attribute: petal_length_cm, Count: 150\n",
      "\n",
      "Attribute: petal_width_cm, Count: 150\n",
      "\n",
      "Attribute: class, Count: 0\n",
      "\n"
     ]
    }
   ],
   "source": [
    "# Question 2\n",
    "new_file = 'iris-clean.csv'\n",
    "\n",
    "# 2a)\n",
    "# Function essentially checks if there are missing values in any of the columns\n",
    "def check_csv(filename):\n",
    "    df = pd.read_csv(filename)\n",
    "    class_instances = df.count()\n",
    "    return False if (len(set(class_instances)) > 1) else True\n",
    "\n",
    "# 2b)\n",
    "def count_instances(filename):\n",
    "    df = pd.read_csv(filename)\n",
    "    count = 0\n",
    "    for i in df:\n",
    "        for j in range(len(df)):\n",
    "            if type(df[i][j]) == str:\n",
    "                break;\n",
    "            elif (np.issubdtype(df[i][j], np.number)):\n",
    "                count += 1\n",
    "        print(\"Attribute: %s, Count: %s\\n\" % (i, count))\n",
    "        count = 0\n",
    "            \n",
    "# count_instances(new_file)"
   ]
  },
  {
   "cell_type": "code",
   "execution_count": null,
   "metadata": {},
   "outputs": [],
   "source": []
  }
 ],
 "metadata": {
  "kernelspec": {
   "display_name": "Python 3",
   "language": "python",
   "name": "python3"
  },
  "language_info": {
   "codemirror_mode": {
    "name": "ipython",
    "version": 3
   },
   "file_extension": ".py",
   "mimetype": "text/x-python",
   "name": "python",
   "nbconvert_exporter": "python",
   "pygments_lexer": "ipython3",
   "version": "3.6.4"
  }
 },
 "nbformat": 4,
 "nbformat_minor": 2
}
