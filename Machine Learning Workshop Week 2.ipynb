{
 "cells": [
  {
   "cell_type": "code",
   "execution_count": 1,
   "metadata": {},
   "outputs": [],
   "source": [
    "# Machine Learning Week 2 Practical Exercises\n",
    "# Author: Jordan Ung <jordanu107@gmail.com>\n",
    "# Last Updated: 4/3/19\n",
    "\n",
    "# Homogenous multidimensional array - less flexible than a list or tuple\n",
    "# but faster in mathematical computations - ref to. numpy object\n",
    "import numpy as np\n",
    "import matplotlib as mpl\n",
    "import sklearn\n",
    "import math\n",
    "\n",
    "# arrays created using arange method - similar to range for lists\n",
    "####a = np.arange(5) - > array([0, 1, 2, 3, 4])\n",
    "####b = np.array([1, 3, -2, 0, 0])\n",
    "####a + b -> array([1, 4, 0, 3, 4])"
   ]
  },
  {
   "cell_type": "code",
   "execution_count": 2,
   "metadata": {},
   "outputs": [],
   "source": [
    "# Function to calculate Euclidean Distance between two arrays (2b)\n",
    "# In built way to find Euclidean Distance is np.linalg.norm(a, b)\n",
    "def my_euclidean_dist(a, b):\n",
    "    if len(a) != len(b):\n",
    "        raise ValueError('The dimensions of a and b are not the same.')\n",
    "    else:\n",
    "        sum = 0\n",
    "    for i in range(len(a)):\n",
    "        sum += pow((a[i] - b[i]), 2)\n",
    "    return pow(sum, 1.0 / len(a))"
   ]
  },
  {
   "cell_type": "code",
   "execution_count": 3,
   "metadata": {},
   "outputs": [],
   "source": [
    "# Function to calculate Hamming Distance between two arrays (2c)\n",
    "def hamming_dist(a, b):\n",
    "    if len(a) != len(b):\n",
    "        raise ValueError('The dimensions of a and b are not the same.')\n",
    "    else:\n",
    "        sum = 0\n",
    "    for i in range(len(a)):\n",
    "        str1 = str(a[i])\n",
    "        str2 = str(b[i])\n",
    "        for j in range(len(str1)):\n",
    "            if str1[j] != str2[j]:\n",
    "                sum += 1\n",
    "    return sum\n",
    "\n",
    "# a = [0, \"cat\", 800, \"??\"]\n",
    "# b = [1, \"dog\", -266, \"??\"]\n",
    "#\n",
    "# print(hamming_dist(a, b))"
   ]
  },
  {
   "cell_type": "code",
   "execution_count": 4,
   "metadata": {},
   "outputs": [
    {
     "name": "stdout",
     "output_type": "stream",
     "text": [
      "3\n"
     ]
    }
   ],
   "source": [
    "# Function to find the dot product between two vectors (3a)\n",
    "def dot_product(a, b):\n",
    "    product = 0\n",
    "    for i in range(len(a)):\n",
    "        product += a[i] * b[i]\n",
    "    return product\n",
    "\n",
    "# print(dot_product([1,2], [1,1]))"
   ]
  },
  {
   "cell_type": "code",
   "execution_count": 21,
   "metadata": {},
   "outputs": [
    {
     "name": "stdout",
     "output_type": "stream",
     "text": [
      "18.434948822922017\n"
     ]
    }
   ],
   "source": [
    "# A function that calculates the cosine of the angle between two vectors (3b)\n",
    "def calculate_cos_angle(a, b):\n",
    "    numerator = dot_product(a, b)\n",
    "    denominator = my_euclidean_dist(a, [0] * len(a)) * my_euclidean_dist(b, [0] * len(b))\n",
    "    angle = math.acos(numerator / denominator) # Returns in radians\n",
    "    return angle * 180 / math.pi\n",
    "\n",
    "# print(calculate_cos_angle(([1,2]), ([1,1])))"
   ]
  },
  {
   "cell_type": "code",
   "execution_count": 25,
   "metadata": {},
   "outputs": [
    {
     "name": "stdout",
     "output_type": "stream",
     "text": [
      "[[ 1 -1  2]\n",
      " [ 3  1 -3]\n",
      " [ 4  2 -3]]\n"
     ]
    }
   ],
   "source": [
    "m = np.matrix([[1, 2, 3], [4, 2, 1], [6, 2, 0]])\n",
    "n = np.matrix([[0, 3, 1], [1, 1, 4], [2, 0, 3]])\n",
    "\n",
    "# print(m + n) \n",
    "# print(m - n)"
   ]
  },
  {
   "cell_type": "code",
   "execution_count": 28,
   "metadata": {},
   "outputs": [
    {
     "name": "stdout",
     "output_type": "stream",
     "text": [
      "[[27 12  5]\n",
      " [18 14 14]\n",
      " [14 16 20]]\n",
      "[[27 12  5]\n",
      " [18 14 14]\n",
      " [14 16 20]]\n"
     ]
    }
   ],
   "source": [
    "# (4b)\n",
    "# print(m*n) same as print(np.dot(m, n)) and vice versa n*m and np.dot(n, m)\n",
    "# print(m*m) same as print(np.dot(m, m))\n"
   ]
  },
  {
   "cell_type": "code",
   "execution_count": null,
   "metadata": {},
   "outputs": [],
   "source": []
  }
 ],
 "metadata": {
  "kernelspec": {
   "display_name": "Python 3",
   "language": "python",
   "name": "python3"
  },
  "language_info": {
   "codemirror_mode": {
    "name": "ipython",
    "version": 3
   },
   "file_extension": ".py",
   "mimetype": "text/x-python",
   "name": "python",
   "nbconvert_exporter": "python",
   "pygments_lexer": "ipython3",
   "version": "3.6.4"
  }
 },
 "nbformat": 4,
 "nbformat_minor": 2
}
