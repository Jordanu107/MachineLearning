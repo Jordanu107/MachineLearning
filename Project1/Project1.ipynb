{
 "cells": [
  {
   "cell_type": "code",
   "execution_count": 2,
   "metadata": {},
   "outputs": [],
   "source": [
    "# COMP30027 Machine learning Project 1: Gaining Information about Naive Bayes\n",
    "# Author: Jordan Ung <jordanu@student.unimelb.edu.au> [729938]\n",
    "# Last Modified: 27.03.19\n",
    "\n",
    "#### GENERAL GUIDE\n",
    "# Read In And Inspect The Data\n",
    "# Check for missing value - (1) delete rows with missing values, (2) Impute the missing values with dataset\n",
    "# Check for anomalously extreme values\n",
    "\n",
    "# QUESTIONS TO ASK:\n",
    "# Should I handle datasets with Missing values and ones without differently?\n",
    "# In tht case do I need to hardcode it or iterate through the whole dataset once\n",
    "# to find presence of missing values?\n",
    "\n",
    "\n",
    "#### TODO\n",
    "# Calculate conditional probabilities\n"
   ]
  },
  {
   "cell_type": "code",
   "execution_count": 3,
   "metadata": {},
   "outputs": [],
   "source": [
    "# Preprocess takes the name of a file and returns a list of instances\n",
    "# within that file, with each instance containing a list of attributes\n",
    "def preprocess(file_name):\n",
    "    dataset = []\n",
    "    with open(file_name, 'r') as file:\n",
    "        # Add each instance to a list to be used later\n",
    "        for line in file.readlines():\n",
    "            dataset.append(line.strip().split(','))\n",
    "            \n",
    "    # Group all the instances with the same class together\n",
    "    dataset = sorted(dataset, key=lambda x: x[-1])\n",
    "    return dataset\n",
    "\n",
    "data_file = 'anneal.csv'\n",
    "missing_value_files = ['breast-cancer.csv', 'hepatitis.csv', 'hypothyroid.csv', 'mushroom.csv', 'primary-tumor.csv']\n",
    "# preprocess(data_file)"
   ]
  },
  {
   "cell_type": "code",
   "execution_count": 5,
   "metadata": {},
   "outputs": [
    {
     "data": {
      "text/plain": [
       "([196, 81],\n",
       " [[{'20-29': 1,\n",
       "    '30-39': 21,\n",
       "    '40-49': 62,\n",
       "    '50-59': 69,\n",
       "    '60-69': 38,\n",
       "    '70-79': 5},\n",
       "   {'ge40': 90, 'lt40': 5, 'premeno': 101},\n",
       "   {'0-4': 7,\n",
       "    '10-14': 27,\n",
       "    '15-19': 23,\n",
       "    '20-24': 34,\n",
       "    '25-29': 33,\n",
       "    '30-34': 33,\n",
       "    '35-39': 12,\n",
       "    '40-44': 16,\n",
       "    '45-49': 2,\n",
       "    '5-9': 4,\n",
       "    '50-54': 5},\n",
       "   {'0-2': 166, '12-14': 1, '15-17': 3, '3-5': 17, '6-8': 7, '9-11': 2},\n",
       "   {'no': 171, 'yes': 25},\n",
       "   {'1': 57, '2': 101, '3': 38},\n",
       "   {'left': 100, 'right': 96},\n",
       "   {'central': 17,\n",
       "    'left_low': 73,\n",
       "    'left_up': 69,\n",
       "    'right_low': 17,\n",
       "    'right_up': 20},\n",
       "   {'no': 164, 'yes': 32}],\n",
       "  [{'30-39': 15, '40-49': 27, '50-59': 22, '60-69': 17},\n",
       "   {'ge40': 33, 'premeno': 48},\n",
       "   {'0-4': 1,\n",
       "    '10-14': 1,\n",
       "    '15-19': 6,\n",
       "    '20-24': 14,\n",
       "    '25-29': 18,\n",
       "    '30-34': 24,\n",
       "    '35-39': 7,\n",
       "    '40-44': 6,\n",
       "    '45-49': 1,\n",
       "    '50-54': 3},\n",
       "   {'0-2': 43,\n",
       "    '12-14': 2,\n",
       "    '15-17': 3,\n",
       "    '24-26': 1,\n",
       "    '3-5': 17,\n",
       "    '6-8': 10,\n",
       "    '9-11': 5},\n",
       "   {'no': 50, 'yes': 31},\n",
       "   {'1': 9, '2': 28, '3': 44},\n",
       "   {'left': 45, 'right': 36},\n",
       "   {'central': 4,\n",
       "    'left_low': 33,\n",
       "    'left_up': 25,\n",
       "    'right_low': 6,\n",
       "    'right_up': 13},\n",
       "   {'no': 51, 'yes': 30}]])"
      ]
     },
     "execution_count": 5,
     "metadata": {},
     "output_type": "execute_result"
    }
   ],
   "source": [
    "# Train takes a list of instances and returns a 2-tuple, containing\n",
    "# a list of counts representing the class distribution and a list\n",
    "# of lists of dictionaries representing the conditional probabilities\n",
    "def train(instance_list, missing_value):\n",
    "    data_info = ([], [])\n",
    "    classes = {}\n",
    "    \n",
    "    for instance in instance_list:\n",
    "        # Check for missing values and delete rows containing them\n",
    "        if missing_value in instance:\n",
    "            instance_list.remove(instance)\n",
    "            \n",
    "        class_type = instance[-1]\n",
    "        # Calculate the frequencies of all the class values\n",
    "        if class_type not in classes:\n",
    "            classes[class_type] = 1\n",
    "        else:\n",
    "            classes[class_type] += 1\n",
    "            \n",
    "    # Create a data structure to store all the attribute probabilities w.r.t each class\n",
    "    for i in range(len(classes)):\n",
    "        data_info[1].append([])\n",
    "        for j in range(len(instance_list[0]) - 1):\n",
    "            data_info[1][i].append({})\n",
    "\n",
    "    # Tally amount of class values compared to total number of instances\n",
    "    num_of_instances = len(instance_list)\n",
    "    for type in classes:\n",
    "        data_info[0].append(classes[type])\n",
    "        \n",
    "    current_class = instance_list[0][-1]\n",
    "    class_index = 0\n",
    "    # Tally each value in each attribute for each class\n",
    "    for data in instance_list:\n",
    "        attribute_num = 0\n",
    "        \n",
    "        # Check that the instances' class is the same as the previous instance\n",
    "        if data[-1] != current_class:\n",
    "            current_class = data[-1]\n",
    "            class_index += 1\n",
    "        \n",
    "        # Input each instance's attribute into the appropriate dictionary\n",
    "        for attribute in data[:-1]:\n",
    "            if attribute in data_info[1][class_index][attribute_num]:\n",
    "                data_info[1][class_index][attribute_num][attribute] += 1\n",
    "            else:\n",
    "                data_info[1][class_index][attribute_num][attribute] = 1\n",
    "            attribute_num += 1\n",
    "            \n",
    "    return data_info # Return the 2-tuple\n",
    "train(preprocess(missing_value_files[0]), \"?\")"
   ]
  },
  {
   "cell_type": "code",
   "execution_count": 69,
   "metadata": {},
   "outputs": [],
   "source": [
    "# This function should predict the class for an instance or a set of instances, based on a trained model \n",
    "def predict(model, instance):\n",
    "    \n",
    "    return # Return a class"
   ]
  },
  {
   "cell_type": "code",
   "execution_count": 5,
   "metadata": {},
   "outputs": [],
   "source": [
    "# This function should evaluate a set of predictions, in a supervised context \n",
    "def evaluate():\n",
    "    return"
   ]
  },
  {
   "cell_type": "code",
   "execution_count": 6,
   "metadata": {},
   "outputs": [],
   "source": [
    "# This function should calculate the Information Gain of an attribute or a set of attribute, with respect to the class\n",
    "def info_gain():\n",
    "    return"
   ]
  },
  {
   "cell_type": "code",
   "execution_count": 30,
   "metadata": {},
   "outputs": [
    {
     "name": "stdout",
     "output_type": "stream",
     "text": [
      "[[], [], [], [], [], [], [], [], [], []]\n"
     ]
    }
   ],
   "source": []
  },
  {
   "cell_type": "code",
   "execution_count": 76,
   "metadata": {},
   "outputs": [
    {
     "name": "stdout",
     "output_type": "stream",
     "text": [
      "[{}, {'name': 'Jordan'}]\n"
     ]
    }
   ],
   "source": [
    "d = [{},{}]\n",
    "s = d[1]\n",
    "s['name'] = 'Jordan'\n",
    "print(d)\n"
   ]
  },
  {
   "cell_type": "code",
   "execution_count": null,
   "metadata": {},
   "outputs": [],
   "source": []
  }
 ],
 "metadata": {
  "kernelspec": {
   "display_name": "Python 3",
   "language": "python",
   "name": "python3"
  },
  "language_info": {
   "codemirror_mode": {
    "name": "ipython",
    "version": 3
   },
   "file_extension": ".py",
   "mimetype": "text/x-python",
   "name": "python",
   "nbconvert_exporter": "python",
   "pygments_lexer": "ipython3",
   "version": "3.6.4"
  }
 },
 "nbformat": 4,
 "nbformat_minor": 2
}
